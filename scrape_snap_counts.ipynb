{
 "cells": [
  {
   "cell_type": "code",
   "execution_count": 1,
   "metadata": {},
   "outputs": [],
   "source": [
    "import pandas as pd\n",
    "import numpy as np\n",
    "import requests\n",
    "import re\n",
    "import json\n",
    "from bs4 import BeautifulSoup"
   ]
  },
  {
   "cell_type": "code",
   "execution_count": 20,
   "metadata": {},
   "outputs": [
    {
     "name": "stdout",
     "output_type": "stream",
     "text": [
      "<Response [200]> - Scraped https://www.fantasypros.com/nfl/reports/snap-counts/db.php\n",
      "                Player Team Postion    1    2    3    4   5   6   7  ...  11  \\\n",
      "0       Trent McDuffie   KC      DB  100   99   82   98 NaN NaN NaN  ... NaN   \n",
      "1           Bryan Cook   KC      DB  100   99  100   83 NaN NaN NaN  ... NaN   \n",
      "2       L'Jarius Sneed   KC      DB  100  100   82  100 NaN NaN NaN  ... NaN   \n",
      "3         Mike Edwards   KC      DB   23   31   41   44 NaN NaN NaN  ... NaN   \n",
      "4      Joshua Williams   KC      DB   56   46   33   47 NaN NaN NaN  ... NaN   \n",
      "..                 ...  ...     ...  ...  ...  ...  ...  ..  ..  ..  ...  ..   \n",
      "282       Dean Marlowe  LAC      DB    0    0    0  100 NaN NaN NaN  ... NaN   \n",
      "283  Kendall Sheffield   SF      DB    0    0    0   15 NaN NaN NaN  ... NaN   \n",
      "284      Ji'Ayir Brown   SF      DB    0    0    0   15 NaN NaN NaN  ... NaN   \n",
      "285        Jamal Adams  SEA      DB    0    0    0   12 NaN NaN NaN  ... NaN   \n",
      "286         Bryce Hall  NYJ      DB    0    0    0    6 NaN NaN NaN  ... NaN   \n",
      "\n",
      "     12  13  14  15  16  17  18  TTL  AVG  \n",
      "0   NaN NaN NaN NaN NaN NaN NaN  236   96  \n",
      "1   NaN NaN NaN NaN NaN NaN NaN  236   96  \n",
      "2   NaN NaN NaN NaN NaN NaN NaN  238   96  \n",
      "3   NaN NaN NaN NaN NaN NaN NaN   84   34  \n",
      "4   NaN NaN NaN NaN NaN NaN NaN  115   46  \n",
      "..   ..  ..  ..  ..  ..  ..  ..  ...  ...  \n",
      "282 NaN NaN NaN NaN NaN NaN NaN   73  100  \n",
      "283 NaN NaN NaN NaN NaN NaN NaN   11   15  \n",
      "284 NaN NaN NaN NaN NaN NaN NaN   11   15  \n",
      "285 NaN NaN NaN NaN NaN NaN NaN    9   12  \n",
      "286 NaN NaN NaN NaN NaN NaN NaN    4    6  \n",
      "\n",
      "[287 rows x 23 columns]\n",
      "<class 'pandas.core.frame.DataFrame'>\n",
      "RangeIndex: 287 entries, 0 to 286\n",
      "Data columns (total 23 columns):\n",
      " #   Column   Non-Null Count  Dtype  \n",
      "---  ------   --------------  -----  \n",
      " 0   Player   287 non-null    object \n",
      " 1   Team     287 non-null    object \n",
      " 2   Postion  287 non-null    object \n",
      " 3   1        287 non-null    int64  \n",
      " 4   2        287 non-null    int64  \n",
      " 5   3        287 non-null    int64  \n",
      " 6   4        287 non-null    int64  \n",
      " 7   5        0 non-null      float64\n",
      " 8   6        0 non-null      float64\n",
      " 9   7        0 non-null      float64\n",
      " 10  8        0 non-null      float64\n",
      " 11  9        0 non-null      float64\n",
      " 12  10       0 non-null      float64\n",
      " 13  11       0 non-null      float64\n",
      " 14  12       0 non-null      float64\n",
      " 15  13       0 non-null      float64\n",
      " 16  14       0 non-null      float64\n",
      " 17  15       0 non-null      float64\n",
      " 18  16       0 non-null      float64\n",
      " 19  17       0 non-null      float64\n",
      " 20  18       0 non-null      float64\n",
      " 21  TTL      287 non-null    int64  \n",
      " 22  AVG      287 non-null    int64  \n",
      "dtypes: float64(14), int64(6), object(3)\n",
      "memory usage: 51.7+ KB\n"
     ]
    }
   ],
   "source": [
    "def get_snap_count(position='qb'):\n",
    "    \"\"\"_summary_\n",
    "\n",
    "    Args:\n",
    "        position (int, optional): the position to scrape [qb, rb, wr, te, dl, lb, db]. Defaults to qb.\n",
    "\n",
    "    Returns:\n",
    "        Beautifulsoup: the Beautifulsoup scraped object (html)  \n",
    "    \"\"\"\n",
    "    url = f'https://www.fantasypros.com/nfl/reports/snap-counts/{position}.php'\n",
    "    params = {\n",
    "        'show': 'perc',\n",
    "    }\n",
    "    header = {\n",
    "        \"User-Agent\": \"Mozilla/5.0 (X11; Linux x86_64) AppleWebKit/537.36 (KHTML, like Gecko) Chrome/50.0.2661.75 Safari/537.36\",\n",
    "        \"X-Requested-With\": \"XMLHttpRequest\"\n",
    "    }\n",
    "    r = requests.get(url, headers=header, params=params)\n",
    "    print(f\"{r} - Scraped {url}\")\n",
    "    soup = BeautifulSoup(r.text, 'html.parser')\n",
    "    div_table = soup.find('div', {'class': 'mobile-table'})\n",
    "    if div_table:\n",
    "        scrape_res = pd.read_html(str(div_table))\n",
    "        df = scrape_res[0]\n",
    "        df.insert(2, column='Postion', value=position.upper())\n",
    "        for c in ['1', '2', '3', '4', '5', '6', '7', '8', '9', '10', '11', '12', '13', '14', '15', '16', '17', '18', 'AVG']:\n",
    "            if df[c].notnull().all():\n",
    "                df[c] = pd.to_numeric(df[c].str.replace(\"%\", \"\"))\n",
    "        return df\n",
    "    else:\n",
    "        return None\n",
    "    \n",
    "data = get_snap_count(position=\"db\")\n",
    "print(data)\n",
    "data.info()"
   ]
  },
  {
   "cell_type": "code",
   "execution_count": 22,
   "metadata": {},
   "outputs": [
    {
     "name": "stdout",
     "output_type": "stream",
     "text": [
      "<Response [200]> - Scraped https://www.fantasypros.com/nfl/reports/snap-counts/qb.php\n",
      "<Response [200]> - Scraped https://www.fantasypros.com/nfl/reports/snap-counts/rb.php\n",
      "<Response [200]> - Scraped https://www.fantasypros.com/nfl/reports/snap-counts/wr.php\n",
      "<Response [200]> - Scraped https://www.fantasypros.com/nfl/reports/snap-counts/te.php\n",
      "<Response [200]> - Scraped https://www.fantasypros.com/nfl/reports/snap-counts/dl.php\n",
      "<Response [200]> - Scraped https://www.fantasypros.com/nfl/reports/snap-counts/lb.php\n",
      "<Response [200]> - Scraped https://www.fantasypros.com/nfl/reports/snap-counts/db.php\n"
     ]
    }
   ],
   "source": [
    "df_list = list()\n",
    "for p in ['qb', 'rb', 'wr', 'te', 'dl', 'lb', 'db']:\n",
    "    df = get_snap_count(position=p)\n",
    "    df_list.append(df)\n",
    "data = pd.concat(df_list, ignore_index=True)\n",
    "data.to_csv('./scraped_season_2023/snap_count.csv', index=False)"
   ]
  },
  {
   "cell_type": "code",
   "execution_count": null,
   "metadata": {},
   "outputs": [],
   "source": []
  }
 ],
 "metadata": {
  "kernelspec": {
   "display_name": "fantasy_football",
   "language": "python",
   "name": "python3"
  },
  "language_info": {
   "codemirror_mode": {
    "name": "ipython",
    "version": 3
   },
   "file_extension": ".py",
   "mimetype": "text/x-python",
   "name": "python",
   "nbconvert_exporter": "python",
   "pygments_lexer": "ipython3",
   "version": "3.11.4"
  },
  "orig_nbformat": 4
 },
 "nbformat": 4,
 "nbformat_minor": 2
}
